{
 "cells": [
  {
   "cell_type": "code",
   "execution_count": null,
   "id": "d9ef907f",
   "metadata": {},
   "outputs": [
    {
     "name": "stderr",
     "output_type": "stream",
     "text": [
      "/opt/anaconda3/envs/chatbot/lib/python3.12/site-packages/tqdm/auto.py:21: TqdmWarning: IProgress not found. Please update jupyter and ipywidgets. See https://ipywidgets.readthedocs.io/en/stable/user_install.html\n",
      "  from .autonotebook import tqdm as notebook_tqdm\n",
      "/Users/zhongyitong/Library/Mobile Documents/com~apple~CloudDocs/Internship/MS_Capital/chatbot/main.py:659: UserWarning: You have not specified a value for the `type` parameter. Defaulting to the 'tuples' format for chatbot messages, but this is deprecated and will be removed in a future version of Gradio. Please set type='messages' instead, which uses openai-style dictionaries with 'role' and 'content' keys.\n",
      "  chatbot=gr.Chatbot(height=700),  # 2x larger height\n",
      "/opt/anaconda3/envs/chatbot/lib/python3.12/site-packages/gradio/chat_interface.py:321: UserWarning: The type of the gr.Chatbot does not match the type of the gr.ChatInterface.The type of the gr.ChatInterface, 'messages', will be used.\n",
      "  warnings.warn(\n",
      "2025-07-28 17:40:12,784 - httpx - INFO - HTTP Request: GET http://127.0.0.1:7860/gradio_api/startup-events \"HTTP/1.1 200 OK\"\n",
      "2025-07-28 17:40:12,807 - httpx - INFO - HTTP Request: HEAD http://127.0.0.1:7860/ \"HTTP/1.1 200 OK\"\n"
     ]
    },
    {
     "name": "stdout",
     "output_type": "stream",
     "text": [
      "* Running on local URL:  http://127.0.0.1:7860\n",
      "* To create a public link, set `share=True` in `launch()`.\n"
     ]
    },
    {
     "data": {
      "text/html": [
       "<div><iframe src=\"http://127.0.0.1:7860/\" width=\"100%\" height=\"500\" allow=\"autoplay; camera; microphone; clipboard-read; clipboard-write;\" frameborder=\"0\" allowfullscreen></iframe></div>"
      ],
      "text/plain": [
       "<IPython.core.display.HTML object>"
      ]
     },
     "metadata": {},
     "output_type": "display_data"
    },
    {
     "data": {
      "text/plain": []
     },
     "execution_count": 1,
     "metadata": {},
     "output_type": "execute_result"
    },
    {
     "name": "stderr",
     "output_type": "stream",
     "text": [
      "2025-07-28 17:40:13,204 - httpx - INFO - HTTP Request: GET https://api.gradio.app/pkg-version \"HTTP/1.1 200 OK\"\n",
      "2025-07-28 17:40:13,219 - httpx - INFO - HTTP Request: GET https://api.gradio.app/pkg-version \"HTTP/1.1 200 OK\"\n",
      "2025-07-28 18:56:19,801 - main - INFO - === DEBUG: Raw inputs from Gradio ===\n",
      "2025-07-28 18:56:19,813 - main - INFO - Message type: <class 'dict'>\n",
      "2025-07-28 18:56:19,815 - main - INFO - Message content: {'text': 'What can you see in this image?', 'files': []}\n",
      "2025-07-28 18:56:19,816 - main - INFO - History type: <class 'list'>\n",
      "2025-07-28 18:56:19,817 - main - INFO - History length: 0\n",
      "2025-07-28 18:56:19,818 - main - INFO - Model: gpt-4.1\n",
      "2025-07-28 18:56:19,818 - main - INFO - Temperature: 0.7, Max tokens: 32000\n",
      "2025-07-28 18:56:19,819 - main - INFO - System prompt template: Default Assistant\n",
      "2025-07-28 18:56:19,819 - main - INFO - Final system prompt: You are a helpful, harmless, and honest AI assistant. Provide clear, accurate, and helpful responses...\n",
      "2025-07-28 18:56:19,819 - main - INFO - ==================================================\n",
      "2025-07-28 18:56:19,820 - main - INFO - Multimodal message - Text: 31 chars, Files: 0\n"
     ]
    }
   ],
   "source": [
    "from main import create_interface\n",
    "demo = create_interface()\n",
    "demo.launch(pwa=True)"
   ]
  }
 ],
 "metadata": {
  "kernelspec": {
   "display_name": "chatbot",
   "language": "python",
   "name": "python3"
  },
  "language_info": {
   "codemirror_mode": {
    "name": "ipython",
    "version": 3
   },
   "file_extension": ".py",
   "mimetype": "text/x-python",
   "name": "python",
   "nbconvert_exporter": "python",
   "pygments_lexer": "ipython3",
   "version": "3.12.11"
  }
 },
 "nbformat": 4,
 "nbformat_minor": 5
}
